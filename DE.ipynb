{
 "cells": [
  {
   "cell_type": "markdown",
   "metadata": {},
   "source": [
    "# DE"
   ]
  },
  {
   "cell_type": "code",
   "execution_count": 4,
   "metadata": {},
   "outputs": [],
   "source": [
    "import random\n",
    "import numpy as np"
   ]
  },
  {
   "cell_type": "code",
   "execution_count": 14,
   "metadata": {},
   "outputs": [],
   "source": [
    "class DE:\n",
    "    # D入力次元数, N集団サイズ, up/lo_lim上限, func評価関数, crossover交叉法, CR交叉率, Fケーリング係数\n",
    "    def __init__(self, D, N, up_lim, lo_lim, func, CR, F):\n",
    "        self.D = D\n",
    "        self.N = N\n",
    "        self.up_lim = up_lim\n",
    "        self.lo_lim = lo_lim\n",
    "        self.func = func\n",
    "        self.CR = CR\n",
    "        self.F = F\n",
    "        \n",
    "    def init_phase(self):\n",
    "        self.xs = np.array([[self.lo_lim + random.random() * (self.up_lim - self.lo_lim) for _j in range(self.D)] for _i in range(self.N)])\n",
    "        \n",
    "    def solution_search_phase(self):\n",
    "        # 評価値算出\n",
    "        self.evaluation = [self.func(*x) for x in self.xs]\n",
    "        \n",
    "        # 子生成\n",
    "        for i in range(self.N):\n",
    "            # rand/1\n",
    "            p = list(range(self.N))\n",
    "            p.pop(i)\n",
    "            p = random.sample(p, 3)\n",
    "            # 突然変異個体\n",
    "            x_i_dash = [self.xs[p[0]] + self.F * (self.xs[p[1]] - self.xs[p[2]])]\n",
    "            \n",
    "            # /bin\n",
    "            ys = []\n",
    "            r = random.randrange(self.D)\n",
    "            for j in range(self.D):\n",
    "                if (j == r) and (random.random() < self.CR):\n",
    "                    ys.append(x_i_dash)\n",
    "                else:\n",
    "                    ys.append(list(self.xs[i]))\n",
    "                    \n",
    "        # 子の評価値算出\n",
    "        ys_evaluation = [self.func(*y) for y in ys]\n",
    "        # 親子選択\n",
    "        self.xs = np.array([self.xs[i] if self.evaluation[i] >= ys_evaluation[i] else ys[i] for i in range(self.N)])"
   ]
  },
  {
   "cell_type": "code",
   "execution_count": null,
   "metadata": {},
   "outputs": [],
   "source": []
  }
 ],
 "metadata": {
  "kernelspec": {
   "display_name": "Python 3",
   "language": "python",
   "name": "python3"
  },
  "language_info": {
   "codemirror_mode": {
    "name": "ipython",
    "version": 3
   },
   "file_extension": ".py",
   "mimetype": "text/x-python",
   "name": "python",
   "nbconvert_exporter": "python",
   "pygments_lexer": "ipython3",
   "version": "3.7.4"
  }
 },
 "nbformat": 4,
 "nbformat_minor": 2
}
